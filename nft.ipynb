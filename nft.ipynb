{
 "cells": [
  {
   "cell_type": "code",
   "execution_count": 56,
   "metadata": {},
   "outputs": [],
   "source": [
    "from algosdk.v2client import algod\n",
    "import json"
   ]
  },
  {
   "cell_type": "code",
   "execution_count": 57,
   "metadata": {},
   "outputs": [],
   "source": [
    "algod_address = \"https://testnet-algorand.api.purestake.io/ps2\"\n",
    "algod_token = \"\"\n",
    "headers = {\n",
    "    \"X-API-Key\": \"ujczQlZdDQ8aIkHGGDjwf1NAAnZHmHej7Orb1Llt\",\n",
    "}"
   ]
  },
  {
   "cell_type": "code",
   "execution_count": 58,
   "metadata": {},
   "outputs": [
    {
     "name": "stdout",
     "output_type": "stream",
     "text": [
      "Status: {\n",
      "  \"catchpoint\": \"\",\n",
      "  \"catchpoint-acquired-blocks\": 0,\n",
      "  \"catchpoint-processed-accounts\": 0,\n",
      "  \"catchpoint-processed-kvs\": 0,\n",
      "  \"catchpoint-total-accounts\": 0,\n",
      "  \"catchpoint-total-blocks\": 0,\n",
      "  \"catchpoint-total-kvs\": 0,\n",
      "  \"catchpoint-verified-accounts\": 0,\n",
      "  \"catchpoint-verified-kvs\": 0,\n",
      "  \"catchup-time\": 0,\n",
      "  \"last-catchpoint\": \"27400000#RARNY2TB3EF2Z2FDFQXRTDWYPTPU5D36RQK2QNLQ2JPERPTQF46A\",\n",
      "  \"last-round\": 27403034,\n",
      "  \"last-version\": \"https://github.com/algorandfoundation/specs/tree/44fa607d6051730f5264526bf3c108d51f0eadb6\",\n",
      "  \"next-version\": \"https://github.com/algorandfoundation/specs/tree/44fa607d6051730f5264526bf3c108d51f0eadb6\",\n",
      "  \"next-version-round\": 27403035,\n",
      "  \"next-version-supported\": true,\n",
      "  \"stopped-at-unsupported-round\": false,\n",
      "  \"time-since-last-round\": 1886036855\n",
      "}\n"
     ]
    }
   ],
   "source": [
    "algod_client = algod.AlgodClient(algod_token, algod_address, headers)\n",
    "\n",
    "try:\n",
    "    status = algod_client.status()\n",
    "    print(\"Status: \" + json.dumps(status, indent=2, sort_keys=True))\n",
    "except Exception as e:\n",
    "    print(\"Failed to get algod status: {}\".format(e))"
   ]
  },
  {
   "cell_type": "code",
   "execution_count": 59,
   "metadata": {},
   "outputs": [
    {
     "name": "stdout",
     "output_type": "stream",
     "text": [
      "####################\n"
     ]
    }
   ],
   "source": [
    "# Retrieve latest block information                                                                                                                                               \n",
    "last_round = status.get(\"last-round\")\n",
    "print(\"####################\")\n",
    "try:\n",
    "    block = algod_client.block_info(last_round)\n",
    "    # print(\"Latest block: \" + json.dumps(block, indent=2, sort_keys=True))\n",
    "except Exception as e:\n",
    "    print(\"Failed to get algod status: {}\".format(e))"
   ]
  },
  {
   "cell_type": "code",
   "execution_count": 60,
   "metadata": {},
   "outputs": [
    {
     "name": "stdout",
     "output_type": "stream",
     "text": [
      "Private key: OtPn16hfvs2lTd870OYG5Qfgr0RznyLyUuLQxi5YUH/t/vt3nbEn9XQA8USvUuOhlRRiMTqJiAfo/58t6hOPdw==\n",
      "Address: 5X7PW545WET7K5AA6FCK6UXDUGKRIYRRHKEYQB7I76PS32QTR53YTWODII\n",
      "The address is valid!\n"
     ]
    }
   ],
   "source": [
    "from algosdk import account, encoding\n",
    "\n",
    "# generate an account\n",
    "private_key, address = account.generate_account()\n",
    "print(\"Private key:\", private_key)\n",
    "print(\"Address:\", address)\n",
    "\n",
    "# check if the address is valid\n",
    "if encoding.is_valid_address(address):\n",
    "    print(\"The address is valid!\")\n",
    "else:\n",
    "    print(\"The address is invalid.\")"
   ]
  },
  {
   "cell_type": "code",
   "execution_count": 61,
   "metadata": {},
   "outputs": [
    {
     "data": {
      "text/plain": [
       "{'address': '5X7PW545WET7K5AA6FCK6UXDUGKRIYRRHKEYQB7I76PS32QTR53YTWODII',\n",
       " 'amount': 0,\n",
       " 'amount-without-pending-rewards': 0,\n",
       " 'apps-local-state': [],\n",
       " 'apps-total-schema': {'num-byte-slice': 0, 'num-uint': 0},\n",
       " 'assets': [],\n",
       " 'created-apps': [],\n",
       " 'created-assets': [],\n",
       " 'min-balance': 100000,\n",
       " 'pending-rewards': 0,\n",
       " 'reward-base': 27521,\n",
       " 'rewards': 0,\n",
       " 'round': 27403034,\n",
       " 'status': 'Offline',\n",
       " 'total-apps-opted-in': 0,\n",
       " 'total-assets-opted-in': 0,\n",
       " 'total-created-apps': 0,\n",
       " 'total-created-assets': 0}"
      ]
     },
     "execution_count": 61,
     "metadata": {},
     "output_type": "execute_result"
    }
   ],
   "source": [
    "\n",
    "algod_client.account_info(address)\n",
    "#  send_transaction()"
   ]
  },
  {
   "cell_type": "markdown",
   "metadata": {},
   "source": [
    "## Transaction"
   ]
  },
  {
   "cell_type": "code",
   "execution_count": 62,
   "metadata": {},
   "outputs": [],
   "source": [
    "import json\n",
    "import time\n",
    "import base64\n",
    "from algosdk.v2client import algod\n",
    "from algosdk import mnemonic\n",
    "from algosdk import transaction"
   ]
  },
  {
   "cell_type": "code",
   "execution_count": 63,
   "metadata": {},
   "outputs": [],
   "source": [
    "# Function from Algorand Inc.\n",
    "def wait_for_confirmation(client, txid):\n",
    "    last_round = client.status().get('last-round')\n",
    "    txinfo = client.pending_transaction_info(txid)\n",
    "    while not (txinfo.get('confirmed-round') and txinfo.get('confirmed-round') > 0):\n",
    "        print('Waiting for confirmation')\n",
    "        last_round += 1\n",
    "        client.status_after_block(last_round)\n",
    "        txinfo = client.pending_transaction_info(txid)\n",
    "    print('Transaction confirmed in round', txinfo.get('confirmed-round'))\n",
    "    return txinfo"
   ]
  },
  {
   "cell_type": "code",
   "execution_count": 64,
   "metadata": {},
   "outputs": [],
   "source": [
    "# # Setup HTTP client w/guest key provided by PureStake\n",
    "# algod_address = 'https://testnet-algorand.api.purestake.io/ps2'\n",
    "# algod_token = \"\"\n",
    "# headers = {\n",
    "#     \"X-API-Key\": \"B3SU4KcVKi94Jap2VXkK83xx38bsv95K5UZm2lab\",\n",
    "# }"
   ]
  },
  {
   "cell_type": "code",
   "execution_count": 65,
   "metadata": {},
   "outputs": [],
   "source": [
    "# Initalize throw-away account for this example - check that is has funds before running script\n",
    "mnemonic_phrase = 'athlete inquiry intact erupt dog poverty sentence quick ask laundry sugar helmet glow intact green blush swift youth crash ahead echo urge quality abandon absent';\n",
    "account_private_key = mnemonic.to_private_key(mnemonic_phrase)\n",
    "account_public_key = mnemonic.to_public_key(mnemonic_phrase)\n",
    "\n",
    "# algodclient = algod.AlgodClient(algod_token, algod_address, headers)"
   ]
  },
  {
   "cell_type": "code",
   "execution_count": 66,
   "metadata": {},
   "outputs": [
    {
     "data": {
      "text/plain": [
       "{'address': 'QECL3HMPEG4XWX5IKN2JNR3W5TW5EKTFJGE4UWGDGRIGW44ICCWMNNBQIE',\n",
       " 'amount': 5000000,\n",
       " 'amount-without-pending-rewards': 5000000,\n",
       " 'apps-local-state': [],\n",
       " 'apps-total-schema': {'num-byte-slice': 0, 'num-uint': 0},\n",
       " 'assets': [],\n",
       " 'created-apps': [],\n",
       " 'created-assets': [],\n",
       " 'min-balance': 100000,\n",
       " 'pending-rewards': 0,\n",
       " 'reward-base': 27521,\n",
       " 'rewards': 0,\n",
       " 'round': 27403035,\n",
       " 'status': 'Offline',\n",
       " 'total-apps-opted-in': 0,\n",
       " 'total-assets-opted-in': 0,\n",
       " 'total-created-apps': 0,\n",
       " 'total-created-assets': 0}"
      ]
     },
     "execution_count": 66,
     "metadata": {},
     "output_type": "execute_result"
    }
   ],
   "source": [
    "algod_client.account_info(account_public_key)"
   ]
  },
  {
   "cell_type": "code",
   "execution_count": 67,
   "metadata": {},
   "outputs": [],
   "source": [
    "# get suggested parameters from Algod\n",
    "params = algod_client.suggested_params()\n",
    "\n",
    "gh = params.gh\n",
    "first_valid_round = params.first\n",
    "last_valid_round = params.last\n",
    "fee = params.min_fee\n",
    "send_amount = 10\n",
    "\n",
    "existing_account = account_public_key\n",
    "send_to_address = 'YKAWZVFGUVQCUERS5GCGKEQTHYFA5RYWBVDUCLLG623BJ2C7ACFPMA6CD'\n"
   ]
  },
  {
   "cell_type": "code",
   "execution_count": null,
   "metadata": {},
   "outputs": [],
   "source": []
  },
  {
   "cell_type": "code",
   "execution_count": 68,
   "metadata": {},
   "outputs": [
    {
     "data": {
      "text/plain": [
       "\"# Create and sign transaction\\ntx = transaction.PaymentTxn(existing_account, fee, first_valid_round, last_valid_round, gh, send_to_address,\\n                            send_amount, flat_fee=True)\\nsigned_tx = tx.sign(account_private_key)\\n\\ntry:\\n    tx_confirm = algod_client.send_transaction(signed_tx)\\n    print('Transaction sent with ID', signed_tx.transaction.get_txid())\\n    wait_for_confirmation(algod_client, txid=signed_tx.transaction.get_txid())\\nexcept Exception as e:\\n    print(e)\""
      ]
     },
     "execution_count": 68,
     "metadata": {},
     "output_type": "execute_result"
    }
   ],
   "source": [
    "\"\"\"# Create and sign transaction\n",
    "tx = transaction.PaymentTxn(existing_account, fee, first_valid_round, last_valid_round, gh, send_to_address,\n",
    "                            send_amount, flat_fee=True)\n",
    "signed_tx = tx.sign(account_private_key)\n",
    "\n",
    "try:\n",
    "    tx_confirm = algod_client.send_transaction(signed_tx)\n",
    "    print('Transaction sent with ID', signed_tx.transaction.get_txid())\n",
    "    wait_for_confirmation(algod_client, txid=signed_tx.transaction.get_txid())\n",
    "except Exception as e:\n",
    "    print(e)\"\"\""
   ]
  },
  {
   "cell_type": "code",
   "execution_count": 69,
   "metadata": {},
   "outputs": [],
   "source": [
    "import hashlib\n",
    "\n",
    "def get_hash(img_path):\n",
    "    # This function will return the `md5` checksum for any input image.\n",
    "    with open(img_path, \"rb\") as f:\n",
    "        img_hash = hashlib.md5()\n",
    "        while chunk := f.read(8192):\n",
    "           img_hash.update(chunk)\n",
    "    return img_hash.hexdigest()"
   ]
  },
  {
   "cell_type": "code",
   "execution_count": 70,
   "metadata": {},
   "outputs": [],
   "source": [
    "\n",
    "\n",
    "fullPathImage = './images/task2.jpg'\n",
    "imageIntegrity = \"sha256-\" + get_hash(fullPathImage)\n",
    "\n",
    "# metadatafileImage = (await fs.readFileSync(fullPathImage))\n",
    "# metadatafileImage = (await fs.readFile(fullPathImage))\n",
    "# hashImage = crypto.createHash('sha256')\n",
    "# hashImage.update(metadatafileImage)\n",
    "# hashImageBase64 = hashImage.digest(\"base64\")\n",
    "# imageIntegrity = \"sha256-\" + hashImageBase64\n",
    "\n",
    "# print(\"image_integrity : \" + imageIntegrity)"
   ]
  },
  {
   "cell_type": "code",
   "execution_count": 71,
   "metadata": {},
   "outputs": [],
   "source": [
    "import json\n",
    "# dir_path = os.path.dirname(os.path.realpath(__file__))\n",
    "f = open ( './backend/trainee/nft/metadata.json', \"r\")\n",
    "\n",
    "\n",
    "\n",
    "# Reading from file\n",
    "metadataJSON = json.loads(f.read())\n",
    "metadataJSON['image_integrity']=imageIntegrity\n",
    "metadataStr = json.dumps(metadataJSON)"
   ]
  },
  {
   "cell_type": "code",
   "execution_count": 72,
   "metadata": {},
   "outputs": [
    {
     "data": {
      "text/plain": [
       "'{\"name\": \"Trainee Certificate\", \"description\": \"Certificate\", \"image_integrity\": \"sha256-87f8aa8bd5fd1263e23e3069243dad62\", \"properties\": {\"simple_property\": \"Trainee unique Certificate\", \"rich_property\": {\"name\": \"Certificate\", \"value\": \"001\", \"display_value\": \"001\", \"class\": \"emphasis\", \"css\": {\"color\": \"#ffffff\", \"font-weight\": \"bold\", \"text-decoration\": \"underline\"}}, \"array_property\": {\"name\": \"Certificate\", \"value\": [1, 2, 3, 4], \"class\": \"emphasis\"}}}'"
      ]
     },
     "execution_count": 72,
     "metadata": {},
     "output_type": "execute_result"
    }
   ],
   "source": [
    "metadataStr"
   ]
  },
  {
   "cell_type": "code",
   "execution_count": null,
   "metadata": {},
   "outputs": [],
   "source": []
  },
  {
   "attachments": {},
   "cell_type": "markdown",
   "metadata": {},
   "source": [
    "Create assets "
   ]
  },
  {
   "cell_type": "code",
   "execution_count": 73,
   "metadata": {},
   "outputs": [],
   "source": [
    "import json\n",
    "import hashlib\n",
    "from algosdk.v2client import algod\n",
    "from algosdk import account, mnemonic\n",
    "from algosdk.future.transaction import AssetConfigTxn, AssetTransferTxn, AssetFreezeTxn, wait_for_confirmation"
   ]
  },
  {
   "cell_type": "code",
   "execution_count": 74,
   "metadata": {},
   "outputs": [],
   "source": [
    "algod_token = \"2f3203f21e738a1de6110eba6984f9d03e5a95d7a577b34616854064cf2c0e7b\"\n",
    "algod_address = \"https://academy-algod.dev.aws.algodev.network/\"\n",
    "algod_client = algod.AlgodClient(algod_token, algod_address)"
   ]
  },
  {
   "cell_type": "code",
   "execution_count": 75,
   "metadata": {},
   "outputs": [],
   "source": [
    "def print_created_asset(algodclient, account, assetid):\n",
    "  # note: if you have an indexer instance available it is easier to just use this\n",
    "  # response = myindexer.accounts(asset_id = assetid)\n",
    "  # then use 'account_info['created-assets'][0] to get info on the created asset\n",
    "  account_info = algodclient.account_info(account)\n",
    "  idx = 0\n",
    "  for my_account_info in account_info['created-assets']:\n",
    "    scrutinized_asset = account_info['created-assets'][idx]\n",
    "    idx = idx + 1       \n",
    "    if (scrutinized_asset['index'] == assetid):\n",
    "      print(\"Asset ID: {}\".format(scrutinized_asset['index']))\n",
    "      print(json.dumps(my_account_info['params'], indent=4))\n",
    "      break\n",
    "\n",
    "#   Utility function used to print asset holding for account and assetid\n",
    "def print_asset_holding(algodclient, account, assetid):\n",
    "    # note: if you have an indexer instance available it is easier to just use this\n",
    "    # response = myindexer.accounts(asset_id = assetid)\n",
    "    # then loop thru the accounts returned and match the account you are looking for\n",
    "    account_info = algodclient.account_info(account)\n",
    "    idx = 0\n",
    "    for my_account_info in account_info['assets']:\n",
    "        scrutinized_asset = account_info['assets'][idx]\n",
    "        idx = idx + 1        \n",
    "        if (scrutinized_asset['asset-id'] == assetid):\n",
    "            print(\"Asset ID: {}\".format(scrutinized_asset['asset-id']))\n",
    "            print(json.dumps(scrutinized_asset, indent=4))\n",
    "            break"
   ]
  },
  {
   "cell_type": "code",
   "execution_count": 80,
   "metadata": {},
   "outputs": [],
   "source": [
    "# accepts the mnemonic\n",
    "def create_asset(m,receiver_pk):  \n",
    "  accounts = {}\n",
    "  accounts[1] = {}\n",
    "  accounts[1]['pk'] = mnemonic.to_public_key(m)\n",
    "  accounts[1]['sk'] = mnemonic.to_private_key(m)\n",
    "\n",
    "  print(\"--------------------------------------------\")\n",
    "  print(\"Creating Asset...\")\n",
    "  # CREATE ASSET\n",
    "  # Get network params for transactions before every transaction.\n",
    "  params = algod_client.suggested_params()\n",
    "  # comment these two lines if you want to use suggested params\n",
    "  # params.fee = 1000\n",
    "  # params.flat_fee = True\n",
    "    \n",
    "  # JSON file\n",
    "#   dir_path = os.path.dirname(os.path.realpath(__file__))\n",
    "#   f = open (dir_path + '/NFT/metadata.json', \"r\")\n",
    "  f = open ('./backend/trainee/nft/metadata.json', \"r\")\n",
    "\n",
    "\n",
    "  \n",
    "  # Reading from file\n",
    "  metadataJSON = json.loads(f.read())\n",
    "  metadataStr = json.dumps(metadataJSON)\n",
    "\n",
    "  hash = hashlib.new(\"sha512_256\")\n",
    "  hash.update(b\"arc0003/amj\")\n",
    "  hash.update(metadataStr.encode(\"utf-8\"))\n",
    "  json_metadata_hash = hash.digest()\n",
    "\n",
    "\n",
    "  # Account 1 creates an asset called latinum and\n",
    "  # sets Account 1 as the manager, reserve, freeze, and clawback address.\n",
    "  # Asset Creation transaction\n",
    "  txn = AssetConfigTxn(\n",
    "      sender=accounts[1]['pk'],\n",
    "      sp=params,\n",
    "      total=1,\n",
    "      default_frozen=False,\n",
    "      unit_name=\"H001\",\n",
    "      asset_name=\"Harriet's Artwork 001\",\n",
    "      manager=accounts[1]['pk'],\n",
    "      reserve=receiver_pk,\n",
    "      freeze=None,\n",
    "      clawback=None,\n",
    "      strict_empty_address_check=False,\n",
    "      url=\"https://gateway.pinata.cloud/ipfs/QmXARven5z9VC64kt8ZHwA6R3qT3bfqXkJftJRHZtrNMye\", \n",
    "      metadata_hash=json_metadata_hash,\n",
    "      decimals=0)\n",
    "\n",
    "  # Sign with secret key of creator\n",
    "  stxn = txn.sign(accounts[1]['sk'])\n",
    "\n",
    "  # Send the transaction to the network and retrieve the txid.\n",
    "  txid = algod_client.send_transaction(stxn)\n",
    "  print(\"Asset Creation Transaction ID: {}\".format(txid))\n",
    "\n",
    "\n",
    "  # Wait for the transaction to be confirmed\n",
    "  confirmed_txn = wait_for_confirmation(algod_client, txid, 4)  \n",
    "  print(\"TXID: \", txid)\n",
    "  print(\"Result confirmed in round: {}\".format(confirmed_txn['confirmed-round']))\n",
    "  try:\n",
    "      # Pull account info for the creator\n",
    "      # account_info = algod_client.account_info(accounts[1]['pk'])\n",
    "      # get asset_id from tx\n",
    "      # Get the new asset's information from the creator account\n",
    "      ptx = algod_client.pending_transaction_info(txid)\n",
    "      asset_id = ptx[\"asset-index\"]\n",
    "      print_created_asset(algod_client, accounts[1]['pk'], asset_id)\n",
    "      print_asset_holding(algod_client, accounts[1]['pk'], asset_id)\n",
    "  except Exception as e:\n",
    "      print(e)\n"
   ]
  },
  {
   "cell_type": "code",
   "execution_count": 77,
   "metadata": {},
   "outputs": [],
   "source": [
    "# OPT-IN\n",
    "def opt_in(trainee_m,asset_id):\n",
    "\n",
    "    # Check if asset_id is in account 3's asset holdings prior\n",
    "    # to opt-in\n",
    "    trainee_sk=mnemonic.to_private_key(trainee_m)\n",
    "    trainee_pk=mnemonic.to_public_key(trainee_m)\n",
    "    params = algod_client.suggested_params()\n",
    "    # comment these two lines if you want to use suggested params\n",
    "    params.fee = 1000\n",
    "    params.flat_fee = True\n",
    "\n",
    "\n",
    "    # Use the AssetTransferTxn class to transfer assets and opt-in\n",
    "    txn = AssetTransferTxn(\n",
    "        sender=trainee_pk,\n",
    "        sp=params,\n",
    "        receiver=trainee_pk,\n",
    "        amt=0,\n",
    "        index=asset_id)\n",
    "    stxn = txn.sign(trainee_sk)\n",
    "    txid = algod_client.send_transaction(stxn)\n",
    "    print(txid)\n",
    "    # Wait for the transaction to be confirmed\n",
    "    wait_for_confirmation(algod_client, txid)\n",
    "    # Now check the asset holding for that account.\n",
    "    # This should now show a holding with a balance of 0.\n",
    "    print_asset_holding(algod_client, trainee_pk, asset_id)"
   ]
  },
  {
   "cell_type": "code",
   "execution_count": 78,
   "metadata": {},
   "outputs": [],
   "source": [
    "# TRANSFER ASSET\n",
    "def transfer_asset(sender_m,receiver_pk,asset_id):\n",
    "\n",
    "    sender_pk=mnemonic.to_public_key(sender_m)\n",
    "    sender_sk=mnemonic.to_private_key(sender_m)\n",
    "\n",
    "    # transfer asset of 10 from account 1 to account 3\n",
    "    params = algod_client.suggested_params()\n",
    "    # comment these two lines if you want to use suggested params\n",
    "    params.fee = 1000\n",
    "    params.flat_fee = True\n",
    "    txn = AssetTransferTxn(\n",
    "        sender=sender_pk,\n",
    "        sp=params,\n",
    "        receiver=receiver_pk,\n",
    "        amt=1,\n",
    "        index=asset_id)\n",
    "    stxn = txn.sign(sender_sk)\n",
    "    txid = algod_client.send_transaction(stxn)\n",
    "    print(txid)\n",
    "    # Wait for the transaction to be confirmed\n",
    "    wait_for_confirmation(algod_client, txid)\n",
    "    # The balance should now be 10.\n",
    "    print_asset_holding(algod_client, receiver_pk, asset_id)"
   ]
  },
  {
   "cell_type": "code",
   "execution_count": 81,
   "metadata": {},
   "outputs": [
    {
     "name": "stdout",
     "output_type": "stream",
     "text": [
      "My address: OSGKCHOFABX4O3RCBY7SBH4ECDVWSV2JLVRQDZM72HBG5TBMWMXBKVJEOM\n",
      "Account balance: 0 microAlgos\n",
      "\n",
      "Go to the below link to fund the created account using testnet faucet: \n",
      " https://dispenser.testnet.aws.algodev.network/?account=OSGKCHOFABX4O3RCBY7SBH4ECDVWSV2JLVRQDZM72HBG5TBMWMXBKVJEOM\n",
      "Fund transfer in process...\n",
      "Fund transferred!\n",
      "Account balance: 5000000 microAlgos\n",
      "\n"
     ]
    }
   ],
   "source": [
    "# Sender \n",
    "import os,sys\n",
    "cwd = os.getcwd()\n",
    "sys.path.append(f'./backend/trainee')\n",
    "\n",
    "def create_account(fund=True):\n",
    "  # Change algod_token and algod_address to connect to a different client\n",
    "  algod_token = \"2f3203f21e738a1de6110eba6984f9d03e5a95d7a577b34616854064cf2c0e7b\"\n",
    "  algod_address = \"https://academy-algod.dev.aws.algodev.network/\"\n",
    "  algod_client = algod.AlgodClient(algod_token, algod_address)\n",
    "\n",
    "  #Generate new account for this transaction\n",
    "  secret_key, my_address = account.generate_account()\n",
    "  m = mnemonic.from_private_key(secret_key)\n",
    "  print(\"My address: {}\".format(my_address))\n",
    "\n",
    "  # Check your balance. It should be 0 microAlgos\n",
    "  account_info = algod_client.account_info(my_address)\n",
    "  print(\"Account balance: {} microAlgos\".format(account_info.get('amount')) + \"\\n\")\n",
    "\n",
    "  if fund:\n",
    "    #Fund the created account\n",
    "    print('Go to the below link to fund the created account using testnet faucet: \\n https://dispenser.testnet.aws.algodev.network/?account={}'.format(my_address)) \n",
    "\n",
    "    completed = \"\"\n",
    "    while completed.lower() != 'yes':\n",
    "      completed = input(\"Type 'yes' once you funded the account: \")\n",
    "\n",
    "    print('Fund transfer in process...')\n",
    "    # Wait for the faucet to transfer funds\n",
    "    time.sleep(5)\n",
    "    \n",
    "    print('Fund transferred!')\n",
    "    # Check your balance. It should be 5000000 microAlgos\n",
    "    account_info = algod_client.account_info(my_address)\n",
    "    print(\"Account balance: {} microAlgos\".format(account_info.get('amount')) + \"\\n\")\n",
    "\n",
    "  return m\n",
    "\n",
    "m=create_account()"
   ]
  },
  {
   "cell_type": "code",
   "execution_count": 87,
   "metadata": {},
   "outputs": [
    {
     "name": "stdout",
     "output_type": "stream",
     "text": [
      "My address: 2UZFZ27QS7VTVAAJ77UTCB7S5JKA6YWAICLKSPRIUULK7U2IRSNCN3VVA4\n",
      "Account balance: 0 microAlgos\n",
      "\n",
      "Go to the below link to fund the created account using testnet faucet: \n",
      " https://dispenser.testnet.aws.algodev.network/?account=2UZFZ27QS7VTVAAJ77UTCB7S5JKA6YWAICLKSPRIUULK7U2IRSNCN3VVA4\n",
      "Fund transfer in process...\n",
      "Fund transferred!\n",
      "Account balance: 5000000 microAlgos\n",
      "\n"
     ]
    }
   ],
   "source": [
    "# receiver \n",
    "receiver=create_account()\n",
    "#algod_client.account_info(address=\"2MMN5ZIVR3NGNXLT25Q6ZWJGAXBREG75DTFN5KYJNMSFU7RP2NFB3BQ5KA\")"
   ]
  },
  {
   "cell_type": "code",
   "execution_count": 99,
   "metadata": {},
   "outputs": [],
   "source": [
    "receiver_pk=\"2UZFZ27QS7VTVAAJ77UTCB7S5JKA6YWAICLKSPRIUULK7U2IRSNCN3VVA4\""
   ]
  },
  {
   "cell_type": "code",
   "execution_count": 101,
   "metadata": {},
   "outputs": [
    {
     "data": {
      "text/plain": [
       "{'address': '2UZFZ27QS7VTVAAJ77UTCB7S5JKA6YWAICLKSPRIUULK7U2IRSNCN3VVA4',\n",
       " 'amount': 5000000,\n",
       " 'amount-without-pending-rewards': 5000000,\n",
       " 'apps-local-state': [],\n",
       " 'apps-total-schema': {'num-byte-slice': 0, 'num-uint': 0},\n",
       " 'assets': [],\n",
       " 'created-apps': [],\n",
       " 'created-assets': [],\n",
       " 'min-balance': 100000,\n",
       " 'pending-rewards': 0,\n",
       " 'reward-base': 27521,\n",
       " 'rewards': 0,\n",
       " 'round': 27404942,\n",
       " 'status': 'Offline',\n",
       " 'total-apps-opted-in': 0,\n",
       " 'total-assets-opted-in': 0,\n",
       " 'total-created-apps': 0,\n",
       " 'total-created-assets': 0}"
      ]
     },
     "execution_count": 101,
     "metadata": {},
     "output_type": "execute_result"
    }
   ],
   "source": [
    "account_info = algod_client.account_info(receiver_pk)\n",
    "# holding = None\n",
    "# idx = 0\n",
    "# for my_account_info in account_info['assets']:\n",
    "#     scrutinized_asset = account_info['assets'][idx]\n",
    "#     idx = idx + 1    \n",
    "#     if (scrutinized_asset['asset-id'] == asset_id):\n",
    "#         holding = True\n",
    "#         break\n",
    "account_info"
   ]
  },
  {
   "cell_type": "code",
   "execution_count": 105,
   "metadata": {},
   "outputs": [
    {
     "data": {
      "text/plain": [
       "'soap earth page uncle step caught whisper seed tissue summer novel base robot vacuum elder tourist staff tank just nerve ocean start table abandon scan'"
      ]
     },
     "execution_count": 105,
     "metadata": {},
     "output_type": "execute_result"
    }
   ],
   "source": [
    "m"
   ]
  },
  {
   "cell_type": "code",
   "execution_count": 143,
   "metadata": {},
   "outputs": [
    {
     "data": {
      "text/plain": [
       "'2UZFZ27QS7VTVAAJ77UTCB7S5JKA6YWAICLKSPRIUULK7U2IRSNCN3VVA4'"
      ]
     },
     "execution_count": 143,
     "metadata": {},
     "output_type": "execute_result"
    }
   ],
   "source": [
    "receiver_pk"
   ]
  },
  {
   "cell_type": "markdown",
   "metadata": {},
   "source": []
  },
  {
   "cell_type": "code",
   "execution_count": null,
   "metadata": {},
   "outputs": [],
   "source": [
    "create_asset(m,receiver_pk)"
   ]
  },
  {
   "cell_type": "code",
   "execution_count": 119,
   "metadata": {},
   "outputs": [],
   "source": [
    "asset_id = \"156589497\""
   ]
  },
  {
   "cell_type": "code",
   "execution_count": 124,
   "metadata": {},
   "outputs": [
    {
     "data": {
      "text/plain": [
       "'speak steel layer waste elite novel easily pull believe casino three loan hurry abuse dinner junk winner jewel need resemble mixture glance change ability arch'"
      ]
     },
     "execution_count": 124,
     "metadata": {},
     "output_type": "execute_result"
    }
   ],
   "source": [
    "receiver"
   ]
  },
  {
   "cell_type": "code",
   "execution_count": 126,
   "metadata": {},
   "outputs": [
    {
     "ename": "AlgodHTTPError",
     "evalue": "",
     "output_type": "error",
     "traceback": [
      "\u001b[1;31m---------------------------------------------------------------------------\u001b[0m",
      "\u001b[1;31mJSONDecodeError\u001b[0m                           Traceback (most recent call last)",
      "\u001b[1;32mc:\\Users\\Administrator\\anaconda3\\lib\\site-packages\\algosdk\\v2client\\algod.py\u001b[0m in \u001b[0;36malgod_request\u001b[1;34m(self, method, requrl, params, data, headers, response_format)\u001b[0m\n\u001b[0;32m     86\u001b[0m             \u001b[1;32mtry\u001b[0m\u001b[1;33m:\u001b[0m\u001b[1;33m\u001b[0m\u001b[1;33m\u001b[0m\u001b[0m\n\u001b[1;32m---> 87\u001b[1;33m                 \u001b[0me\u001b[0m \u001b[1;33m=\u001b[0m \u001b[0mjson\u001b[0m\u001b[1;33m.\u001b[0m\u001b[0mloads\u001b[0m\u001b[1;33m(\u001b[0m\u001b[0me\u001b[0m\u001b[1;33m)\u001b[0m\u001b[1;33m[\u001b[0m\u001b[1;34m\"message\"\u001b[0m\u001b[1;33m]\u001b[0m\u001b[1;33m\u001b[0m\u001b[1;33m\u001b[0m\u001b[0m\n\u001b[0m\u001b[0;32m     88\u001b[0m             \u001b[1;32mfinally\u001b[0m\u001b[1;33m:\u001b[0m\u001b[1;33m\u001b[0m\u001b[1;33m\u001b[0m\u001b[0m\n",
      "\u001b[1;32mc:\\Users\\Administrator\\anaconda3\\lib\\json\\__init__.py\u001b[0m in \u001b[0;36mloads\u001b[1;34m(s, cls, object_hook, parse_float, parse_int, parse_constant, object_pairs_hook, **kw)\u001b[0m\n\u001b[0;32m    356\u001b[0m             parse_constant is None and object_pairs_hook is None and not kw):\n\u001b[1;32m--> 357\u001b[1;33m         \u001b[1;32mreturn\u001b[0m \u001b[0m_default_decoder\u001b[0m\u001b[1;33m.\u001b[0m\u001b[0mdecode\u001b[0m\u001b[1;33m(\u001b[0m\u001b[0ms\u001b[0m\u001b[1;33m)\u001b[0m\u001b[1;33m\u001b[0m\u001b[1;33m\u001b[0m\u001b[0m\n\u001b[0m\u001b[0;32m    358\u001b[0m     \u001b[1;32mif\u001b[0m \u001b[0mcls\u001b[0m \u001b[1;32mis\u001b[0m \u001b[1;32mNone\u001b[0m\u001b[1;33m:\u001b[0m\u001b[1;33m\u001b[0m\u001b[1;33m\u001b[0m\u001b[0m\n",
      "\u001b[1;32mc:\\Users\\Administrator\\anaconda3\\lib\\json\\decoder.py\u001b[0m in \u001b[0;36mdecode\u001b[1;34m(self, s, _w)\u001b[0m\n\u001b[0;32m    336\u001b[0m         \"\"\"\n\u001b[1;32m--> 337\u001b[1;33m         \u001b[0mobj\u001b[0m\u001b[1;33m,\u001b[0m \u001b[0mend\u001b[0m \u001b[1;33m=\u001b[0m \u001b[0mself\u001b[0m\u001b[1;33m.\u001b[0m\u001b[0mraw_decode\u001b[0m\u001b[1;33m(\u001b[0m\u001b[0ms\u001b[0m\u001b[1;33m,\u001b[0m \u001b[0midx\u001b[0m\u001b[1;33m=\u001b[0m\u001b[0m_w\u001b[0m\u001b[1;33m(\u001b[0m\u001b[0ms\u001b[0m\u001b[1;33m,\u001b[0m \u001b[1;36m0\u001b[0m\u001b[1;33m)\u001b[0m\u001b[1;33m.\u001b[0m\u001b[0mend\u001b[0m\u001b[1;33m(\u001b[0m\u001b[1;33m)\u001b[0m\u001b[1;33m)\u001b[0m\u001b[1;33m\u001b[0m\u001b[1;33m\u001b[0m\u001b[0m\n\u001b[0m\u001b[0;32m    338\u001b[0m         \u001b[0mend\u001b[0m \u001b[1;33m=\u001b[0m \u001b[0m_w\u001b[0m\u001b[1;33m(\u001b[0m\u001b[0ms\u001b[0m\u001b[1;33m,\u001b[0m \u001b[0mend\u001b[0m\u001b[1;33m)\u001b[0m\u001b[1;33m.\u001b[0m\u001b[0mend\u001b[0m\u001b[1;33m(\u001b[0m\u001b[1;33m)\u001b[0m\u001b[1;33m\u001b[0m\u001b[1;33m\u001b[0m\u001b[0m\n",
      "\u001b[1;32mc:\\Users\\Administrator\\anaconda3\\lib\\json\\decoder.py\u001b[0m in \u001b[0;36mraw_decode\u001b[1;34m(self, s, idx)\u001b[0m\n\u001b[0;32m    354\u001b[0m         \u001b[1;32mexcept\u001b[0m \u001b[0mStopIteration\u001b[0m \u001b[1;32mas\u001b[0m \u001b[0merr\u001b[0m\u001b[1;33m:\u001b[0m\u001b[1;33m\u001b[0m\u001b[1;33m\u001b[0m\u001b[0m\n\u001b[1;32m--> 355\u001b[1;33m             \u001b[1;32mraise\u001b[0m \u001b[0mJSONDecodeError\u001b[0m\u001b[1;33m(\u001b[0m\u001b[1;34m\"Expecting value\"\u001b[0m\u001b[1;33m,\u001b[0m \u001b[0ms\u001b[0m\u001b[1;33m,\u001b[0m \u001b[0merr\u001b[0m\u001b[1;33m.\u001b[0m\u001b[0mvalue\u001b[0m\u001b[1;33m)\u001b[0m \u001b[1;32mfrom\u001b[0m \u001b[1;32mNone\u001b[0m\u001b[1;33m\u001b[0m\u001b[1;33m\u001b[0m\u001b[0m\n\u001b[0m\u001b[0;32m    356\u001b[0m         \u001b[1;32mreturn\u001b[0m \u001b[0mobj\u001b[0m\u001b[1;33m,\u001b[0m \u001b[0mend\u001b[0m\u001b[1;33m\u001b[0m\u001b[1;33m\u001b[0m\u001b[0m\n",
      "\u001b[1;31mJSONDecodeError\u001b[0m: Expecting value: line 1 column 1 (char 0)",
      "\nDuring handling of the above exception, another exception occurred:\n",
      "\u001b[1;31mAlgodHTTPError\u001b[0m                            Traceback (most recent call last)",
      "\u001b[1;32m<ipython-input-126-36b02d43c995>\u001b[0m in \u001b[0;36m<module>\u001b[1;34m\u001b[0m\n\u001b[1;32m----> 1\u001b[1;33m \u001b[0mopt_in\u001b[0m\u001b[1;33m(\u001b[0m\u001b[0mreceiver\u001b[0m\u001b[1;33m,\u001b[0m\u001b[0masset_id\u001b[0m\u001b[1;33m)\u001b[0m\u001b[1;33m\u001b[0m\u001b[1;33m\u001b[0m\u001b[0m\n\u001b[0m",
      "\u001b[1;32m<ipython-input-77-412d4f8b0b64>\u001b[0m in \u001b[0;36mopt_in\u001b[1;34m(trainee_m, asset_id)\u001b[0m\n\u001b[0;32m     20\u001b[0m         index=asset_id)\n\u001b[0;32m     21\u001b[0m     \u001b[0mstxn\u001b[0m \u001b[1;33m=\u001b[0m \u001b[0mtxn\u001b[0m\u001b[1;33m.\u001b[0m\u001b[0msign\u001b[0m\u001b[1;33m(\u001b[0m\u001b[0mtrainee_sk\u001b[0m\u001b[1;33m)\u001b[0m\u001b[1;33m\u001b[0m\u001b[1;33m\u001b[0m\u001b[0m\n\u001b[1;32m---> 22\u001b[1;33m     \u001b[0mtxid\u001b[0m \u001b[1;33m=\u001b[0m \u001b[0malgod_client\u001b[0m\u001b[1;33m.\u001b[0m\u001b[0msend_transaction\u001b[0m\u001b[1;33m(\u001b[0m\u001b[0mstxn\u001b[0m\u001b[1;33m)\u001b[0m\u001b[1;33m\u001b[0m\u001b[1;33m\u001b[0m\u001b[0m\n\u001b[0m\u001b[0;32m     23\u001b[0m     \u001b[0mprint\u001b[0m\u001b[1;33m(\u001b[0m\u001b[0mtxid\u001b[0m\u001b[1;33m)\u001b[0m\u001b[1;33m\u001b[0m\u001b[1;33m\u001b[0m\u001b[0m\n\u001b[0;32m     24\u001b[0m     \u001b[1;31m# Wait for the transaction to be confirmed\u001b[0m\u001b[1;33m\u001b[0m\u001b[1;33m\u001b[0m\u001b[1;33m\u001b[0m\u001b[0m\n",
      "\u001b[1;32mc:\\Users\\Administrator\\anaconda3\\lib\\site-packages\\algosdk\\v2client\\algod.py\u001b[0m in \u001b[0;36msend_transaction\u001b[1;34m(self, txn, **kwargs)\u001b[0m\n\u001b[0;32m    212\u001b[0m             \u001b[0mtxn\u001b[0m\u001b[1;33m,\u001b[0m \u001b[0mfuture\u001b[0m\u001b[1;33m.\u001b[0m\u001b[0mtransaction\u001b[0m\u001b[1;33m.\u001b[0m\u001b[0mTransaction\u001b[0m\u001b[1;33m\u001b[0m\u001b[1;33m\u001b[0m\u001b[0m\n\u001b[0;32m    213\u001b[0m         ), \"Attempt to send UNSIGNED transaction {}\".format(txn)\n\u001b[1;32m--> 214\u001b[1;33m         return self.send_raw_transaction(\n\u001b[0m\u001b[0;32m    215\u001b[0m             \u001b[0mencoding\u001b[0m\u001b[1;33m.\u001b[0m\u001b[0mmsgpack_encode\u001b[0m\u001b[1;33m(\u001b[0m\u001b[0mtxn\u001b[0m\u001b[1;33m)\u001b[0m\u001b[1;33m,\u001b[0m \u001b[1;33m**\u001b[0m\u001b[0mkwargs\u001b[0m\u001b[1;33m\u001b[0m\u001b[1;33m\u001b[0m\u001b[0m\n\u001b[0;32m    216\u001b[0m         )\n",
      "\u001b[1;32mc:\\Users\\Administrator\\anaconda3\\lib\\site-packages\\algosdk\\v2client\\algod.py\u001b[0m in \u001b[0;36msend_raw_transaction\u001b[1;34m(self, txn, **kwargs)\u001b[0m\n\u001b[0;32m    235\u001b[0m         \u001b[0mkwargs\u001b[0m\u001b[1;33m[\u001b[0m\u001b[1;34m\"headers\"\u001b[0m\u001b[1;33m]\u001b[0m \u001b[1;33m=\u001b[0m \u001b[0mheaders\u001b[0m\u001b[1;33m\u001b[0m\u001b[1;33m\u001b[0m\u001b[0m\n\u001b[0;32m    236\u001b[0m \u001b[1;33m\u001b[0m\u001b[0m\n\u001b[1;32m--> 237\u001b[1;33m         \u001b[1;32mreturn\u001b[0m \u001b[0mself\u001b[0m\u001b[1;33m.\u001b[0m\u001b[0malgod_request\u001b[0m\u001b[1;33m(\u001b[0m\u001b[1;34m\"POST\"\u001b[0m\u001b[1;33m,\u001b[0m \u001b[0mreq\u001b[0m\u001b[1;33m,\u001b[0m \u001b[0mdata\u001b[0m\u001b[1;33m=\u001b[0m\u001b[0mtxn\u001b[0m\u001b[1;33m,\u001b[0m \u001b[1;33m**\u001b[0m\u001b[0mkwargs\u001b[0m\u001b[1;33m)\u001b[0m\u001b[1;33m[\u001b[0m\u001b[1;34m\"txId\"\u001b[0m\u001b[1;33m]\u001b[0m\u001b[1;33m\u001b[0m\u001b[1;33m\u001b[0m\u001b[0m\n\u001b[0m\u001b[0;32m    238\u001b[0m \u001b[1;33m\u001b[0m\u001b[0m\n\u001b[0;32m    239\u001b[0m     def pending_transactions(\n",
      "\u001b[1;32mc:\\Users\\Administrator\\anaconda3\\lib\\site-packages\\algosdk\\v2client\\algod.py\u001b[0m in \u001b[0;36malgod_request\u001b[1;34m(self, method, requrl, params, data, headers, response_format)\u001b[0m\n\u001b[0;32m     87\u001b[0m                 \u001b[0me\u001b[0m \u001b[1;33m=\u001b[0m \u001b[0mjson\u001b[0m\u001b[1;33m.\u001b[0m\u001b[0mloads\u001b[0m\u001b[1;33m(\u001b[0m\u001b[0me\u001b[0m\u001b[1;33m)\u001b[0m\u001b[1;33m[\u001b[0m\u001b[1;34m\"message\"\u001b[0m\u001b[1;33m]\u001b[0m\u001b[1;33m\u001b[0m\u001b[1;33m\u001b[0m\u001b[0m\n\u001b[0;32m     88\u001b[0m             \u001b[1;32mfinally\u001b[0m\u001b[1;33m:\u001b[0m\u001b[1;33m\u001b[0m\u001b[1;33m\u001b[0m\u001b[0m\n\u001b[1;32m---> 89\u001b[1;33m                 \u001b[1;32mraise\u001b[0m \u001b[0merror\u001b[0m\u001b[1;33m.\u001b[0m\u001b[0mAlgodHTTPError\u001b[0m\u001b[1;33m(\u001b[0m\u001b[0me\u001b[0m\u001b[1;33m,\u001b[0m \u001b[0mcode\u001b[0m\u001b[1;33m)\u001b[0m\u001b[1;33m\u001b[0m\u001b[1;33m\u001b[0m\u001b[0m\n\u001b[0m\u001b[0;32m     90\u001b[0m         \u001b[1;32mif\u001b[0m \u001b[0mresponse_format\u001b[0m \u001b[1;33m==\u001b[0m \u001b[1;34m\"json\"\u001b[0m\u001b[1;33m:\u001b[0m\u001b[1;33m\u001b[0m\u001b[1;33m\u001b[0m\u001b[0m\n\u001b[0;32m     91\u001b[0m             \u001b[1;32mtry\u001b[0m\u001b[1;33m:\u001b[0m\u001b[1;33m\u001b[0m\u001b[1;33m\u001b[0m\u001b[0m\n",
      "\u001b[1;31mAlgodHTTPError\u001b[0m: "
     ]
    }
   ],
   "source": [
    "opt_in(receiver,asset_id)"
   ]
  },
  {
   "cell_type": "code",
   "execution_count": null,
   "metadata": {},
   "outputs": [],
   "source": [
    "transfer_asset(m,receiver_pk,asset_id)"
   ]
  }
 ],
 "metadata": {
  "kernelspec": {
   "display_name": "base",
   "language": "python",
   "name": "python3"
  },
  "language_info": {
   "codemirror_mode": {
    "name": "ipython",
    "version": 3
   },
   "file_extension": ".py",
   "mimetype": "text/x-python",
   "name": "python",
   "nbconvert_exporter": "python",
   "pygments_lexer": "ipython3",
   "version": "3.8.8"
  },
  "orig_nbformat": 4,
  "vscode": {
   "interpreter": {
    "hash": "57bc2b6ce032b5f0e93daa91901b7ea38a856826ef43aa9e95b6d3999f5310df"
   }
  }
 },
 "nbformat": 4,
 "nbformat_minor": 2
}
